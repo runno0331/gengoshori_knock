{
 "cells": [
  {
   "cell_type": "markdown",
   "metadata": {},
   "source": [
    "## 第2章　UNIXコマンドの基礎"
   ]
  },
  {
   "cell_type": "markdown",
   "metadata": {},
   "source": [
    "hightemp.txtは，日本の最高気温の記録を「都道府県」「地点」「℃」「日」のタブ区切り形式で格納したファイルである．以下の処理を行うプログラムを作成し，hightemp.txtを入力ファイルとして実行せよ．さらに，同様の処理をUNIXコマンドでも実行し，プログラムの実行結果を確認せよ．"
   ]
  },
  {
   "cell_type": "markdown",
   "metadata": {},
   "source": [
    "## 10. 行数のカウント\n",
    "行数をカウントせよ．確認にはwcコマンドを用いよ．"
   ]
  },
  {
   "cell_type": "code",
   "execution_count": 1,
   "metadata": {},
   "outputs": [
    {
     "name": "stdout",
     "output_type": "stream",
     "text": [
      "Number of lines:  24\n"
     ]
    }
   ],
   "source": [
    "filename = \"text/hightemp.txt\"\n",
    "\n",
    "count = 0\n",
    "with open(filename, \"r\") as f:\n",
    "    for line in f:\n",
    "        count += 1\n",
    "\n",
    "print(\"Number of lines: \", count)"
   ]
  },
  {
   "cell_type": "markdown",
   "metadata": {},
   "source": [
    "- シェルスクリプト\n",
    "    - wc -l hightemp.txt\n",
    "- 出力結果\n",
    "    - 24 hightemp.txt"
   ]
  },
  {
   "cell_type": "markdown",
   "metadata": {},
   "source": [
    "## 11. タブをスペースに置換\n",
    "タブ1文字につきスペース1文字に置換せよ．確認にはsedコマンド，trコマンド，もしくはexpandコマンドを用いよ．"
   ]
  },
  {
   "cell_type": "code",
   "execution_count": 8,
   "metadata": {},
   "outputs": [
    {
     "name": "stdout",
     "output_type": "stream",
     "text": [
      "高知県 江川崎 41 2013-08-12\n",
      "\n",
      "埼玉県 熊谷 40.9 2007-08-16\n",
      "\n",
      "岐阜県 多治見 40.9 2007-08-16\n",
      "\n",
      "山形県 山形 40.8 1933-07-25\n",
      "\n",
      "山梨県 甲府 40.7 2013-08-10\n",
      "\n",
      "和歌山県 かつらぎ 40.6 1994-08-08\n",
      "\n",
      "静岡県 天竜 40.6 1994-08-04\n",
      "\n",
      "山梨県 勝沼 40.5 2013-08-10\n",
      "\n",
      "埼玉県 越谷 40.4 2007-08-16\n",
      "\n",
      "群馬県 館林 40.3 2007-08-16\n",
      "\n",
      "群馬県 上里見 40.3 1998-07-04\n",
      "\n",
      "愛知県 愛西 40.3 1994-08-05\n",
      "\n",
      "千葉県 牛久 40.2 2004-07-20\n",
      "\n",
      "静岡県 佐久間 40.2 2001-07-24\n",
      "\n",
      "愛媛県 宇和島 40.2 1927-07-22\n",
      "\n",
      "山形県 酒田 40.1 1978-08-03\n",
      "\n",
      "岐阜県 美濃 40 2007-08-16\n",
      "\n",
      "群馬県 前橋 40 2001-07-24\n",
      "\n",
      "千葉県 茂原 39.9 2013-08-11\n",
      "\n",
      "埼玉県 鳩山 39.9 1997-07-05\n",
      "\n",
      "大阪府 豊中 39.9 1994-08-08\n",
      "\n",
      "山梨県 大月 39.9 1990-07-19\n",
      "\n",
      "山形県 鶴岡 39.9 1978-08-03\n",
      "\n",
      "愛知県 名古屋 39.9 1942-08-02\n",
      "\n"
     ]
    }
   ],
   "source": [
    "with open(filename, \"r\") as f:\n",
    "    for line in f:\n",
    "        line_conv = line.replace(\"\\t\", \" \")\n",
    "        print(line_conv)"
   ]
  },
  {
   "cell_type": "markdown",
   "metadata": {},
   "source": [
    "- シェルスクリプト\n",
    "    - expand --tabs=1 hightemp.txt\n",
    "- 出力結果\n",
    "     -  高知県 江川崎 41 2013-08-12\n",
    "     -  埼玉県 熊谷 40.9 2007-08-16\n",
    "     -  岐阜県 多治見 40.9 2007-08-16\n",
    "     -  山形県 山形 40.8 1933-07-25\n",
    "     -  山梨県 甲府 40.7 2013-08-10\n",
    "     -  和歌山県 かつらぎ 40.6 1994-08-08\n",
    "     -  静岡県 天竜 40.6 1994-08-04\n",
    "     -  山梨県 勝沼 40.5 2013-08-10\n",
    "     -  埼玉県 越谷 40.4 2007-08-16\n",
    "     -  群馬県 館林 40.3 2007-08-16\n",
    "     -  群馬県 上里見 40.3 1998-07-04\n",
    "     -  愛知県 愛西 40.3 1994-08-05\n",
    "     -  千葉県 牛久 40.2 2004-07-20\n",
    "     -  静岡県 佐久間 40.2 2001-07-24\n",
    "     -  愛媛県 宇和島 40.2 1927-07-22\n",
    "     -  山形県 酒田 40.1 1978-08-03\n",
    "     -  岐阜県 美濃 40 2007-08-16\n",
    "     -  群馬県 前橋 40 2001-07-24\n",
    "     -  千葉県 茂原 39.9 2013-08-11\n",
    "     -  埼玉県 鳩山 39.9 1997-07-05\n",
    "     -  大阪府 豊中 39.9 1994-08-08\n",
    "     -  山梨県 大月 39.9 1990-07-19\n",
    "     -  山形県 鶴岡 39.9 1978-08-03\n",
    "     -  愛知県 名古屋 39.9 1942-08-02\n"
   ]
  },
  {
   "cell_type": "markdown",
   "metadata": {},
   "source": [
    "### 別解　シェルスクリプト\n",
    "- sed 's/\\t/ /' hightemp.txt\n",
    "- tr '\\t' ' ' < hightemp.txt"
   ]
  },
  {
   "cell_type": "markdown",
   "metadata": {},
   "source": [
    "## 12. 1列目をcol1.txtに，2列目をcol2.txtに保存\n",
    "各行の1列目だけを抜き出したものをcol1.txtに，2列目だけを抜き出したものをcol2.txtとしてファイルに保存せよ．確認にはcutコマンドを用いよ．"
   ]
  },
  {
   "cell_type": "code",
   "execution_count": 18,
   "metadata": {},
   "outputs": [
    {
     "name": "stdout",
     "output_type": "stream",
     "text": [
      "Text in col1.txt\n",
      "高知県\n",
      "\n",
      "埼玉県\n",
      "\n",
      "岐阜県\n",
      "\n",
      "山形県\n",
      "\n",
      "山梨県\n",
      "\n",
      "和歌山県\n",
      "\n",
      "静岡県\n",
      "\n",
      "山梨県\n",
      "\n",
      "埼玉県\n",
      "\n",
      "群馬県\n",
      "\n",
      "群馬県\n",
      "\n",
      "愛知県\n",
      "\n",
      "千葉県\n",
      "\n",
      "静岡県\n",
      "\n",
      "愛媛県\n",
      "\n",
      "山形県\n",
      "\n",
      "岐阜県\n",
      "\n",
      "群馬県\n",
      "\n",
      "千葉県\n",
      "\n",
      "埼玉県\n",
      "\n",
      "大阪府\n",
      "\n",
      "山梨県\n",
      "\n",
      "山形県\n",
      "\n",
      "愛知県\n",
      "\n",
      "Text in col2.txt\n",
      "江川崎\n",
      "\n",
      "熊谷\n",
      "\n",
      "多治見\n",
      "\n",
      "山形\n",
      "\n",
      "甲府\n",
      "\n",
      "かつらぎ\n",
      "\n",
      "天竜\n",
      "\n",
      "勝沼\n",
      "\n",
      "越谷\n",
      "\n",
      "館林\n",
      "\n",
      "上里見\n",
      "\n",
      "愛西\n",
      "\n",
      "牛久\n",
      "\n",
      "佐久間\n",
      "\n",
      "宇和島\n",
      "\n",
      "酒田\n",
      "\n",
      "美濃\n",
      "\n",
      "前橋\n",
      "\n",
      "茂原\n",
      "\n",
      "鳩山\n",
      "\n",
      "豊中\n",
      "\n",
      "大月\n",
      "\n",
      "鶴岡\n",
      "\n",
      "名古屋\n",
      "\n"
     ]
    }
   ],
   "source": [
    "out_file1 = \"text/col1.txt\"\n",
    "out_file2 = \"text/col2.txt\"\n",
    "\n",
    "with open(filename, \"r\") as f, open(out_file1, \"w\") as g, open(out_file2, \"w\") as h:\n",
    "    for line in f:\n",
    "        words = line.split()\n",
    "        g.writelines(words[0]+\"\\n\")\n",
    "        h.writelines(words[1]+\"\\n\")\n",
    "        \n",
    "with open(out_file1, \"r\") as g, open(out_file2, \"r\") as h:\n",
    "    print(\"Text in col1.txt\")\n",
    "    for line in g:\n",
    "        print(line)\n",
    "        \n",
    "    print(\"Text in col2.txt\")\n",
    "    for line in h:\n",
    "        print(line)"
   ]
  },
  {
   "cell_type": "markdown",
   "metadata": {},
   "source": [
    "- シェルスクリプト\n",
    "    - cut --fields=1 hightemp.txt > col1_test.txt\n",
    "    - cut --fields=2 hightemp.txt > col2_text.txt"
   ]
  },
  {
   "cell_type": "markdown",
   "metadata": {},
   "source": [
    "### 確認"
   ]
  },
  {
   "cell_type": "code",
   "execution_count": 34,
   "metadata": {},
   "outputs": [
    {
     "name": "stdout",
     "output_type": "stream",
     "text": [
      "col1 match:  True\n",
      "col2 match:  True\n"
     ]
    }
   ],
   "source": [
    "with open(out_file1, \"r\") as f, open(out_file2, \"r\") as g, \\\n",
    "    open(\"text/col1_test.txt\", \"r\") as test1, open(\"text/col2_test.txt\", \"r\") as test2:\n",
    "        flag_col1 = True\n",
    "        for line1, line2 in zip(f, test1):\n",
    "            if line1 != line2:\n",
    "                flag_col1 = False\n",
    "        print(\"col1 match: \", flag_col1)\n",
    "        \n",
    "        flag_col2 = True\n",
    "        for line1, line2 in zip(g, test2):\n",
    "            if line1 != line2:\n",
    "                flag_col2 = False\n",
    "        print(\"col2 match: \", flag_col2)"
   ]
  },
  {
   "cell_type": "markdown",
   "metadata": {},
   "source": [
    "### シェルスクリプトでの確認\n",
    "- シェルスクリプト\n",
    "    - diff --report-identical-files col1.txt col1_test.txt\n",
    "- 出力結果\n",
    "    - ファイル col1.txt と col1_test.txt は同一です\n",
    "\n",
    "- シェルスクリプト\n",
    "    - diff --report-identical-files col2.txt col2_test.txt\n",
    "- 出力結果\n",
    "    - ファイル col2.txt と col2_test.txt は同一です"
   ]
  },
  {
   "cell_type": "markdown",
   "metadata": {},
   "source": [
    "## 13. col1.txtとcol2.txtをマージ\n",
    "12で作ったcol1.txtとcol2.txtを結合し，元のファイルの1列目と2列目をタブ区切りで並べたテキストファイルを作成せよ．確認にはpasteコマンドを用いよ．"
   ]
  },
  {
   "cell_type": "code",
   "execution_count": 42,
   "metadata": {},
   "outputs": [
    {
     "name": "stdout",
     "output_type": "stream",
     "text": [
      "高知県\t江川崎\n",
      "\n",
      "埼玉県\t熊谷\n",
      "\n",
      "岐阜県\t多治見\n",
      "\n",
      "山形県\t山形\n",
      "\n",
      "山梨県\t甲府\n",
      "\n",
      "和歌山県\tかつらぎ\n",
      "\n",
      "静岡県\t天竜\n",
      "\n",
      "山梨県\t勝沼\n",
      "\n",
      "埼玉県\t越谷\n",
      "\n",
      "群馬県\t館林\n",
      "\n",
      "群馬県\t上里見\n",
      "\n",
      "愛知県\t愛西\n",
      "\n",
      "千葉県\t牛久\n",
      "\n",
      "静岡県\t佐久間\n",
      "\n",
      "愛媛県\t宇和島\n",
      "\n",
      "山形県\t酒田\n",
      "\n",
      "岐阜県\t美濃\n",
      "\n",
      "群馬県\t前橋\n",
      "\n",
      "千葉県\t茂原\n",
      "\n",
      "埼玉県\t鳩山\n",
      "\n",
      "大阪府\t豊中\n",
      "\n",
      "山梨県\t大月\n",
      "\n",
      "山形県\t鶴岡\n",
      "\n",
      "愛知県\t名古屋\n",
      "\n"
     ]
    }
   ],
   "source": [
    "filename1 = \"text/col1.txt\"\n",
    "filename2 = \"text/col2.txt\"\n",
    "filename3 = \"text/col_merge.txt\"\n",
    "with open(filename1, \"r\") as f1, open(filename2, \"r\") as f2, open(filename3, \"w\") as g:\n",
    "    for line1, line2 in zip(f1, f2):\n",
    "        g.write(line1.strip() + '\\t' + line2.strip() + '\\n')\n",
    "\n",
    "with open(filename3, \"r\") as f:\n",
    "    for line in f:\n",
    "        print(line)"
   ]
  },
  {
   "cell_type": "markdown",
   "metadata": {},
   "source": [
    "### 確認"
   ]
  },
  {
   "cell_type": "markdown",
   "metadata": {},
   "source": [
    "- シェルスクリプト\n",
    "    - paste col1.txt col2.txt > col_merge_test.txt\n",
    "    - diff --report-identical-files col_merge.txt col_merge_test.txt\n",
    "- 出力結果\n",
    "    - ファイル col_merge.txt と col_merge_test.txt は同一です"
   ]
  },
  {
   "cell_type": "code",
   "execution_count": 43,
   "metadata": {},
   "outputs": [
    {
     "name": "stdout",
     "output_type": "stream",
     "text": [
      "col_merge match:  True\n"
     ]
    }
   ],
   "source": [
    "with open(\"text/col_merge.txt\", \"r\") as f, open(\"text/col_merge_test.txt\", \"r\") as g:\n",
    "    flag = True\n",
    "    for line1, line2 in zip(f, g):\n",
    "        if line1 != line2:\n",
    "            flag = False\n",
    "    \n",
    "    print(\"col_merge match: \", flag)"
   ]
  },
  {
   "cell_type": "markdown",
   "metadata": {},
   "source": [
    "## 14. 先頭からN行を出力\n",
    "自然数Nをコマンドライン引数などの手段で受け取り，入力のうち先頭のN行だけを表示せよ．確認にはheadコマンドを用いよ．"
   ]
  },
  {
   "cell_type": "code",
   "execution_count": 44,
   "metadata": {},
   "outputs": [
    {
     "name": "stdout",
     "output_type": "stream",
     "text": [
      "4\n",
      "高知県\t江川崎\t41\t2013-08-12\n",
      "\n",
      "埼玉県\t熊谷\t40.9\t2007-08-16\n",
      "\n",
      "岐阜県\t多治見\t40.9\t2007-08-16\n",
      "\n",
      "山形県\t山形\t40.8\t1933-07-25\n",
      "\n"
     ]
    }
   ],
   "source": [
    "filename = \"text/hightemp.txt\"\n",
    "line_num = int(input())\n",
    "\n",
    "with open(filename, \"r\") as f:\n",
    "    for i in range(line_num):\n",
    "        line = f.readline()\n",
    "        print(line)"
   ]
  },
  {
   "cell_type": "markdown",
   "metadata": {},
   "source": [
    "- シュルスクリプト\n",
    "    - head -4 hightemp.txt\n",
    "- 出力結果\n",
    "    - 高知県\t江川崎\t41\t2013-08-12\n",
    "    - 埼玉県\t熊谷\t40.9\t2007-08-16\n",
    "    - 岐阜県\t多治見\t40.9\t2007-08-16\n",
    "    - 山形県\t山形\t40.8\t1933-07-25"
   ]
  },
  {
   "cell_type": "markdown",
   "metadata": {},
   "source": [
    "### 別解\n",
    "- echo -n \"N--> \"\n",
    "- read n\n",
    "- head --lines=$n hightemp.txt"
   ]
  },
  {
   "cell_type": "markdown",
   "metadata": {},
   "source": [
    "## 15. 末尾のN行を出力\n",
    "自然数Nをコマンドライン引数などの手段で受け取り，入力のうち末尾のN行だけを表示せよ．確認にはtailコマンドを用いよ．"
   ]
  },
  {
   "cell_type": "code",
   "execution_count": 49,
   "metadata": {},
   "outputs": [
    {
     "name": "stdout",
     "output_type": "stream",
     "text": [
      "4\n",
      "8\n",
      "-\n",
      "0\n",
      "2\n"
     ]
    }
   ],
   "source": [
    "filename = \"text/hightemp.txt\"\n",
    "line_num = int(input())\n",
    "\n",
    "with open(filename, \"r\") as f:\n",
    "    lines = f.read().strip('\\n')\n",
    "    for line in lines[-line_num:]:\n",
    "        print(line)"
   ]
  },
  {
   "cell_type": "code",
   "execution_count": null,
   "metadata": {},
   "outputs": [],
   "source": []
  }
 ],
 "metadata": {
  "kernelspec": {
   "display_name": "Python 3",
   "language": "python",
   "name": "python3"
  },
  "language_info": {
   "codemirror_mode": {
    "name": "ipython",
    "version": 3
   },
   "file_extension": ".py",
   "mimetype": "text/x-python",
   "name": "python",
   "nbconvert_exporter": "python",
   "pygments_lexer": "ipython3",
   "version": "3.7.3"
  }
 },
 "nbformat": 4,
 "nbformat_minor": 2
}
