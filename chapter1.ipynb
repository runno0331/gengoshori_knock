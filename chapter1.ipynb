{
 "cells": [
  {
   "cell_type": "markdown",
   "metadata": {},
   "source": [
    "# 第一章　準備運動"
   ]
  },
  {
   "cell_type": "markdown",
   "metadata": {},
   "source": [
    "## 00. 文字列の逆順\n",
    "文字列\"stressed\"の文字を逆に（末尾から先頭に向かって）並べた文字列を得よ．"
   ]
  },
  {
   "cell_type": "code",
   "execution_count": 39,
   "metadata": {},
   "outputs": [
    {
     "name": "stdout",
     "output_type": "stream",
     "text": [
      "desserts\n"
     ]
    }
   ],
   "source": [
    "s = \"stressed\"\n",
    "result = s[::-1]\n",
    "print(result)"
   ]
  },
  {
   "cell_type": "markdown",
   "metadata": {},
   "source": [
    "## 01. 「パタトクカシーー」\n",
    "「パタトクカシーー」という文字列の1,3,5,7文字目を取り出して連結した文字列を得よ．"
   ]
  },
  {
   "cell_type": "code",
   "execution_count": 38,
   "metadata": {},
   "outputs": [
    {
     "name": "stdout",
     "output_type": "stream",
     "text": [
      "パトカー\n"
     ]
    }
   ],
   "source": [
    "s = \"パタトクカシーー\"\n",
    "result = s[::2]\n",
    "print(result)"
   ]
  },
  {
   "cell_type": "markdown",
   "metadata": {},
   "source": [
    "## 02.  「パトカー」＋「タクシー」＝「パタトクカシーー」\n",
    "「パトカー」＋「タクシー」の文字を先頭から交互に連結して文字列「パタトクカシーー」を得よ．"
   ]
  },
  {
   "cell_type": "code",
   "execution_count": 40,
   "metadata": {},
   "outputs": [
    {
     "name": "stdout",
     "output_type": "stream",
     "text": [
      "パタトクカシーー\n"
     ]
    }
   ],
   "source": [
    "s1 = \"パトカー\"\n",
    "s2 = \"タクシー\"\n",
    "result = \"\"\n",
    "for l1, l2 in zip(s1, s2):\n",
    "    result += l1 + l2\n",
    "print(result)"
   ]
  },
  {
   "cell_type": "markdown",
   "metadata": {},
   "source": [
    "## 03. 円周率\n",
    "\"Now I need a drink, alcoholic of course, after the heavy lectures involving quantum mechanics.\"という文を単語に分解し，各単語の（アルファベットの）文字数を先頭から出現順に並べたリストを作成せよ．"
   ]
  },
  {
   "cell_type": "code",
   "execution_count": 41,
   "metadata": {},
   "outputs": [
    {
     "name": "stdout",
     "output_type": "stream",
     "text": [
      "[3, 1, 4, 1, 5, 9, 2, 6, 5, 3, 5, 8, 9, 7, 9]\n"
     ]
    }
   ],
   "source": [
    "s = \"Now I need a drink, alcoholic of course, after the heavy lectures involving quantum mechanics.\"\n",
    "s = s.replace(\",\", \"\")\n",
    "s = s.replace(\".\", \"\")\n",
    "words = s.split()\n",
    "result = []\n",
    "for word in words:\n",
    "    result.append(len(word))\n",
    "print(result)"
   ]
  },
  {
   "cell_type": "markdown",
   "metadata": {},
   "source": [
    "## 04. 元素記号\n",
    "\"Hi He Lied Because Boron Could Not Oxidize Fluorine. New Nations Might Also Sign Peace Security Clause. Arthur King Can.\"という文を単語に分解し，1, 5, 6, 7, 8, 9, 15, 16, 19番目の単語は先頭の1文字，それ以外の単語は先頭に2文字を取り出し，取り出した文字列から単語の位置（先頭から何番目の単語か）への連想配列（辞書型もしくはマップ型）を作成せよ．"
   ]
  },
  {
   "cell_type": "code",
   "execution_count": 42,
   "metadata": {},
   "outputs": [
    {
     "name": "stdout",
     "output_type": "stream",
     "text": [
      "['H', 'He', 'Li', 'Be', 'B', 'C', 'N', 'O', 'F', 'Ne', 'Na', 'Mi', 'Al', 'Si', 'P', 'S', 'Cl', 'Ar', 'K', 'Ca']\n"
     ]
    }
   ],
   "source": [
    "s = \"Hi He Lied Because Boron Could Not Oxidize Fluorine. New Nations Might Also Sign Peace Security Clause. Arthur King Can.\"\n",
    "words = s.split()\n",
    "indexes = [1, 5, 6, 7, 8, 9, 15, 16, 19]\n",
    "result = []\n",
    "for i, word in enumerate(words):\n",
    "    if i+1 in indexes:\n",
    "        result.append(words[i][0])\n",
    "    else:\n",
    "        result.append(words[i][:2])\n",
    "print(result)"
   ]
  },
  {
   "cell_type": "markdown",
   "metadata": {},
   "source": [
    "## 05. n-gram\n",
    "与えられたシーケンス（文字列やリストなど）からn-gramを作る関数を作成せよ．この関数を用い，\"I am an NLPer\"という文から単語bi-gram，文字bi-gramを得よ．"
   ]
  },
  {
   "cell_type": "code",
   "execution_count": 46,
   "metadata": {},
   "outputs": [
    {
     "name": "stdout",
     "output_type": "stream",
     "text": [
      "word bi-gram:\n",
      "[['I', 'am'], ['am', 'an'], ['an', 'NLPer']]\n",
      "letter bi-gram:\n",
      "['I ', ' a', 'am', 'm ', ' a', 'an', 'n ', ' N', 'NL', 'LP', 'Pe', 'er']\n"
     ]
    }
   ],
   "source": [
    "def n_grams(s, n):\n",
    "    result = []\n",
    "    for i in range(len(s)-n+1):\n",
    "        result.append(s[i:i+n])\n",
    "    return result\n",
    "\n",
    "s = \"I am an NLPer\"\n",
    "words = s.split()\n",
    "\n",
    "print(\"word bi-gram:\\n{}\".format(n_grams(words, 2)))\n",
    "print(\"letter bi-gram:\\n{}\".format(n_grams(s, 2)))"
   ]
  },
  {
   "cell_type": "markdown",
   "metadata": {},
   "source": [
    "## 06. 集合\n",
    "\"paraparaparadise\"と\"paragraph\"に含まれる文字bi-gramの集合を，それぞれ, XとYとして求め，XとYの和集合，積集合，差集合を求めよ．さらに，'se'というbi-gramがXおよびYに含まれるかどうかを調べよ．"
   ]
  },
  {
   "cell_type": "code",
   "execution_count": 59,
   "metadata": {},
   "outputs": [
    {
     "name": "stdout",
     "output_type": "stream",
     "text": [
      "X:\n",
      "{'ra', 'ar', 'se', 'pa', 'is', 'ad', 'di', 'ap'}\n",
      "Y:\n",
      "{'ra', 'ar', 'ph', 'gr', 'pa', 'ag', 'ap'}\n",
      "\n",
      "Union:\n",
      "{'ra', 'ar', 'ag', 'ph', 'se', 'gr', 'pa', 'is', 'ad', 'di', 'ap'}\n",
      "Intersection:\n",
      "{'ra', 'pa', 'ar', 'ap'}\n",
      "Difference:\n",
      "{'is', 'ad', 'se', 'di'}\n",
      "\n",
      "\"se\" in X:True\n",
      "\"se\" in Y:False\n"
     ]
    }
   ],
   "source": [
    "s1 = \"paraparaparadise\"\n",
    "s2 = \"paragraph\"\n",
    "\n",
    "X = set(n_grams(s1, 2))\n",
    "Y = set(n_grams(s2, 2))\n",
    "print(\"X:\\n{}\".format(X))\n",
    "print(\"Y:\\n{}\".format(Y))\n",
    "\n",
    "print()\n",
    "print(\"Union:\\n{}\".format(X|Y))\n",
    "print(\"Intersection:\\n{}\".format(X&Y))\n",
    "print(\"Difference:\\n{}\".format(X-Y))\n",
    "\n",
    "print()\n",
    "print(\"\\\"se\\\" in X:{}\".format(\"se\" in X))\n",
    "print(\"\\\"se\\\" in Y:{}\".format(\"se\" in Y))"
   ]
  },
  {
   "cell_type": "markdown",
   "metadata": {},
   "source": [
    "## 07. テンプレートによる文生成\n",
    "引数x, y, zを受け取り「x時のyはz」という文字列を返す関数を実装せよ．さらに，x=12, y=\"気温\", z=22.4として，実行結果を確認せよ．"
   ]
  },
  {
   "cell_type": "code",
   "execution_count": 60,
   "metadata": {},
   "outputs": [
    {
     "name": "stdout",
     "output_type": "stream",
     "text": [
      "12時はの気温は22.4\n"
     ]
    }
   ],
   "source": [
    "def template(x, y, z):\n",
    "    s = \"{}時はの{}は{}\".format(x, y, z)\n",
    "    return s\n",
    "\n",
    "x = 12\n",
    "y = \"気温\"\n",
    "z = 22.4\n",
    "\n",
    "print(template(x, y, z))"
   ]
  },
  {
   "cell_type": "code",
   "execution_count": 61,
   "metadata": {},
   "outputs": [
    {
     "name": "stdout",
     "output_type": "stream",
     "text": [
      "12時の気温は22.4\n"
     ]
    }
   ],
   "source": [
    "from string import Template\n",
    "\n",
    "def template2(x, y, z):\n",
    "    s = Template(\"$hour時の$targetは$value\")\n",
    "    return s.substitute(hour=x, target=y, value=z)\n",
    "\n",
    "print(template2(x, y, z))"
   ]
  },
  {
   "cell_type": "markdown",
   "metadata": {},
   "source": [
    "## 08. 暗号文\n",
    "与えられた文字列の各文字を，以下の仕様で変換する関数cipherを実装せよ．\n",
    "\n",
    "- 英小文字ならば(219 - 文字コード)の文字に置換\n",
    "- その他の文字はそのまま出力\n",
    "\n",
    "この関数を用い，英語のメッセージを暗号化・復号化せよ．"
   ]
  },
  {
   "cell_type": "code",
   "execution_count": 65,
   "metadata": {},
   "outputs": [
    {
     "name": "stdout",
     "output_type": "stream",
     "text": [
      "Original message:  Sample Message 123\n",
      "Coded message:  Sznkov Mvhhztv 123\n",
      "Decoded message:  Sample Message 123\n"
     ]
    }
   ],
   "source": [
    "def clpher(message):\n",
    "    result = \"\"\n",
    "    for letter in message:\n",
    "        if letter.islower():\n",
    "            result += chr(219 - ord(letter))\n",
    "        else:\n",
    "            result += letter\n",
    "    return result\n",
    "\n",
    "message = \"Sample Message 123\"\n",
    "print(\"Original message: \", message)\n",
    "\n",
    "coded_message = clpher(message)\n",
    "print(\"Coded message: \", coded_message)\n",
    "\n",
    "decoded_message = clpher(coded_message)\n",
    "print(\"Decoded message: \", decoded_message)"
   ]
  },
  {
   "cell_type": "markdown",
   "metadata": {},
   "source": [
    "## 09. Typoglycemia\n",
    "スペースで区切られた単語列に対して，各単語の先頭と末尾の文字は残し，それ以外の文字の順序をランダムに並び替えるプログラムを作成せよ．ただし，長さが４以下の単語は並び替えないこととする．適当な英語の文（例えば\"I couldn't believe that I could actually understand what I was reading : the phenomenal power of the human mind .\"）を与え，その実行結果を確認せよ．"
   ]
  },
  {
   "cell_type": "code",
   "execution_count": 89,
   "metadata": {},
   "outputs": [
    {
     "name": "stdout",
     "output_type": "stream",
     "text": [
      "Original sentence:\n",
      " I couldn't believe that I could actually understand what I was reading : the phenomenal power of the human mind .\n",
      "Shuffled sentence:\n",
      " I cdl'nuot bielvee that I cuold atcalluy unterasndd what I was reaindg : the pemoneanhl power of the hmuan mind .\n"
     ]
    }
   ],
   "source": [
    "import random\n",
    "\n",
    "s= \"I couldn't believe that I could actually understand what I was reading : the phenomenal power of the human mind .\"\n",
    "words = s.split()\n",
    "shuffled_words = []\n",
    "\n",
    "for word in words:\n",
    "    if len(word) > 4:\n",
    "        word_list = list(word[1:-1])\n",
    "        random.shuffle(word_list)\n",
    "        shuffled_words.append(word[0] + \"\".join(word_list) + word[-1])\n",
    "    else:\n",
    "        shuffled_words.append(word)\n",
    "\n",
    "print(\"Original sentence:\\n\", s)\n",
    "result = \" \".join(shuffled_words)\n",
    "print(\"Shuffled sentence:\\n\", result)"
   ]
  },
  {
   "cell_type": "code",
   "execution_count": null,
   "metadata": {},
   "outputs": [],
   "source": []
  }
 ],
 "metadata": {
  "kernelspec": {
   "display_name": "Python 3",
   "language": "python",
   "name": "python3"
  },
  "language_info": {
   "codemirror_mode": {
    "name": "ipython",
    "version": 3
   },
   "file_extension": ".py",
   "mimetype": "text/x-python",
   "name": "python",
   "nbconvert_exporter": "python",
   "pygments_lexer": "ipython3",
   "version": "3.7.3"
  }
 },
 "nbformat": 4,
 "nbformat_minor": 2
}
